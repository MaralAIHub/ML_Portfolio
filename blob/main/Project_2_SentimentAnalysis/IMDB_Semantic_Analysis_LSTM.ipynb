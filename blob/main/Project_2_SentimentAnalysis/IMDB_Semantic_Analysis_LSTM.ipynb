{
  "nbformat": 4,
  "nbformat_minor": 0,
  "metadata": {
    "colab": {
      "provenance": [],
      "gpuType": "T4",
      "authorship_tag": "ABX9TyMioAZoCwkJpieFH/crvjjp",
      "include_colab_link": true
    },
    "kernelspec": {
      "name": "python3",
      "display_name": "Python 3"
    },
    "language_info": {
      "name": "python"
    },
    "accelerator": "GPU"
  },
  "cells": [
    {
      "cell_type": "markdown",
      "metadata": {
        "id": "view-in-github",
        "colab_type": "text"
      },
      "source": [
        "<a href=\"https://colab.research.google.com/github/MaralAIHub/ML_Portfolio/blob/main/blob/main/Project_2_SentimentAnalysis/IMDB_Semantic_Analysis_LSTM.ipynb\" target=\"_parent\"><img src=\"https://colab.research.google.com/assets/colab-badge.svg\" alt=\"Open In Colab\"/></a>"
      ]
    },
    {
      "cell_type": "markdown",
      "source": [
        "\n",
        "## **تحلیل احساسات با LSTM روی IMDB**"
      ],
      "metadata": {
        "id": "2ZfmgO_QoUOQ"
      }
    },
    {
      "cell_type": "markdown",
      "source": [
        "**بارگذاری کتابخانه ها**"
      ],
      "metadata": {
        "id": "qtZA47qfvKVF"
      }
    },
    {
      "cell_type": "code",
      "source": [
        "import re\n",
        "from collections import Counter\n",
        "import torch\n",
        "import torch.nn as nn\n",
        "import torch.optim as optim\n",
        "import torch.nn.functional as F\n",
        "from datasets import load_dataset\n",
        "from torch.utils.data import DataLoader\n",
        "import matplotlib.pyplot as plt\n",
        "\n",
        "device = torch.device(\"cuda\" if torch.cuda.is_available() else \"cpu\")\n",
        "print(\"Device:\", device)\n"
      ],
      "metadata": {
        "id": "1ljCsJyAvZXF"
      },
      "execution_count": null,
      "outputs": []
    },
    {
      "cell_type": "markdown",
      "source": [
        "**بارگذاری داده**"
      ],
      "metadata": {
        "id": "dFyK4MGgvcO-"
      }
    },
    {
      "cell_type": "code",
      "source": [
        "dataset = load_dataset(\"imdb\")\n",
        "print(dataset)"
      ],
      "metadata": {
        "id": "lhkVWXgVvhnt"
      },
      "execution_count": null,
      "outputs": []
    },
    {
      "cell_type": "markdown",
      "source": [
        "**توکنایزر ساده**"
      ],
      "metadata": {
        "id": "3pfFxoBjvtTA"
      }
    },
    {
      "cell_type": "code",
      "source": [
        "def tokenize(text):\n",
        "    return re.findall(r\"\\w+\", text.lower())\n",
        "\n",
        "# ساخت واژگان (vocab)\n",
        "counter = Counter()\n",
        "for txt in dataset[\"train\"][\"text\"]:\n",
        "    counter.update(tokenize(txt))\n",
        "\n",
        "VOCAB_SIZE = 20000   # حداکثر اندازه واژگان\n",
        "most_common = counter.most_common(VOCAB_SIZE)\n",
        "\n",
        "vocab = {\"<pad>\":0, \"<unk>\":1}\n",
        "for i, (tok, _) in enumerate(most_common, start=2):\n",
        "    vocab[tok] = i\n",
        "\n",
        "pad_idx = vocab[\"<pad>\"]\n",
        "unk_idx = vocab[\"<unk>\"]\n",
        "vocab_size = len(vocab)\n",
        "print(\"Vocab size:\", vocab_size)\n",
        "\n",
        "# تبدیل متن به لیست عددی\n",
        "def encode(text):\n",
        "    return [vocab.get(t, unk_idx) for t in tokenize(text)]"
      ],
      "metadata": {
        "id": "wKABfJmyvtgF"
      },
      "execution_count": null,
      "outputs": []
    },
    {
      "cell_type": "markdown",
      "source": [
        "**collate_fn برای DataLoader**"
      ],
      "metadata": {
        "id": "qKM5JVsUv1mE"
      }
    },
    {
      "cell_type": "code",
      "source": [
        "def collate_batch(batch):\n",
        "    texts = [torch.tensor(encode(item[\"text\"]), dtype=torch.long) for item in batch]\n",
        "    labels = torch.tensor([item[\"label\"] for item in batch], dtype=torch.long)\n",
        "    texts_padded = nn.utils.rnn.pad_sequence(texts, batch_first=True, padding_value=pad_idx)\n",
        "    return labels, texts_padded\n",
        "\n",
        "train_loader = DataLoader(dataset[\"train\"], batch_size=32, shuffle=True, collate_fn=collate_batch)\n",
        "test_loader  = DataLoader(dataset[\"test\"],  batch_size=64, shuffle=False, collate_fn=collate_batch)"
      ],
      "metadata": {
        "id": "JhPpcVPYv1xv"
      },
      "execution_count": null,
      "outputs": []
    },
    {
      "cell_type": "markdown",
      "source": [
        "**تعریف مدل LSTM**"
      ],
      "metadata": {
        "id": "wYhXX5ipv9l9"
      }
    },
    {
      "cell_type": "code",
      "source": [
        "class LSTMClassifier(nn.Module):\n",
        "    def __init__(self, vocab_size, embed_dim=64, hidden_dim=128, output_dim=2, pad_idx=0):\n",
        "        super().__init__()\n",
        "        self.embedding = nn.Embedding(vocab_size, embed_dim, padding_idx=pad_idx)\n",
        "        self.lstm = nn.LSTM(embed_dim, hidden_dim, batch_first=True)\n",
        "        self.fc = nn.Linear(hidden_dim, output_dim)\n",
        "        self.dropout = nn.Dropout(0.5)\n",
        "    def forward(self, x):\n",
        "        embedded = self.embedding(x)                # (B, L, E)\n",
        "        _, (hidden, _) = self.lstm(embedded)        # hidden: (num_layers, B, H)\n",
        "        out = self.fc(self.dropout(hidden[-1]))     # آخرین لایه LSTM\n",
        "        return out\n",
        "\n",
        "model = LSTMClassifier(vocab_size=vocab_size, pad_idx=pad_idx).to(device)\n",
        "print(model)"
      ],
      "metadata": {
        "id": "ljQv19gLv9w8"
      },
      "execution_count": null,
      "outputs": []
    },
    {
      "cell_type": "markdown",
      "source": [
        "**آموزش**"
      ],
      "metadata": {
        "id": "wGLVGM9ewE79"
      }
    },
    {
      "cell_type": "code",
      "source": [
        "criterion = nn.CrossEntropyLoss()\n",
        "optimizer = optim.Adam(model.parameters(), lr=1e-3)\n",
        "\n",
        "epochs = 2   # برای تست سریع، بیشتر کنید برای دقت بالاتر\n",
        "history = {\"loss\":[], \"acc\":[]}\n",
        "\n",
        "for epoch in range(epochs):\n",
        "    model.train()\n",
        "    total_loss = 0.0\n",
        "    correct = total = 0\n",
        "    for labels, texts in train_loader:\n",
        "        labels = labels.to(device)\n",
        "        texts = texts.to(device)\n",
        "        optimizer.zero_grad()\n",
        "        outputs = model(texts)\n",
        "        loss = criterion(outputs, labels)\n",
        "        loss.backward()\n",
        "        optimizer.step()\n",
        "        total_loss += loss.item()\n",
        "        preds = outputs.argmax(dim=1)\n",
        "        correct += (preds == labels).sum().item()\n",
        "        total += labels.size(0)\n",
        "    avg_loss = total_loss/len(train_loader)\n",
        "    acc = correct/total\n",
        "    history[\"loss\"].append(avg_loss)\n",
        "    history[\"acc\"].append(acc)\n",
        "    print(f\"Epoch {epoch+1}  Loss={avg_loss:.3f}  Acc={acc:.3f}\")"
      ],
      "metadata": {
        "id": "8hyh2XDlwFGP"
      },
      "execution_count": null,
      "outputs": []
    },
    {
      "cell_type": "markdown",
      "source": [
        "**نمودار آموزش**"
      ],
      "metadata": {
        "id": "_t0dhyHlwLvF"
      }
    },
    {
      "cell_type": "code",
      "source": [
        "plt.figure(figsize=(8,4))\n",
        "plt.subplot(1,2,1)\n",
        "plt.plot(range(1, epochs+1), history[\"loss\"], marker='o')\n",
        "plt.title(\"Loss\")\n",
        "plt.subplot(1,2,2)\n",
        "plt.plot(range(1, epochs+1), history[\"acc\"], marker='o')\n",
        "plt.title(\"Accuracy\")\n",
        "plt.show()"
      ],
      "metadata": {
        "id": "DRRLAQ6swL40"
      },
      "execution_count": null,
      "outputs": []
    },
    {
      "cell_type": "markdown",
      "source": [
        "**پیش‌بینی روی جمله جدید**"
      ],
      "metadata": {
        "id": "bONjXEIbwSo0"
      }
    },
    {
      "cell_type": "code",
      "source": [
        "def predict_sentiment(text):\n",
        "    model.eval()\n",
        "    with torch.no_grad():\n",
        "        ids = torch.tensor(encode(text), dtype=torch.long).unsqueeze(0).to(device)\n",
        "        out = model(ids)\n",
        "        probs = F.softmax(out, dim=1).cpu().numpy()[0]\n",
        "        return probs\n",
        "\n",
        "examples = [\"This movie was amazing!\", \"I hated this movie, it was so boring.\"]\n",
        "for s in examples:\n",
        "    p = predict_sentiment(s)\n",
        "    print(s, \"-> neg:{:.2f}, pos:{:.2f}\".format(p[0], p[1]))\n"
      ],
      "metadata": {
        "id": "p_Z-4gdRvKsL"
      },
      "execution_count": null,
      "outputs": []
    }
  ]
}